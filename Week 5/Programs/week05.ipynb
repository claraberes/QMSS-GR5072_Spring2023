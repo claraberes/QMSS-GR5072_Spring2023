{
 "cells": [
  {
   "cell_type": "markdown",
   "id": "96d3ba45",
   "metadata": {},
   "source": [
    "# Week 5"
   ]
  },
  {
   "cell_type": "markdown",
   "id": "f00cfb67",
   "metadata": {},
   "source": [
    "### Table of Contents"
   ]
  },
  {
   "cell_type": "markdown",
   "id": "373bf42e",
   "metadata": {},
   "source": [
    "1. [Question 1](#bullet1)\n",
    "2. [Question 2](#bullet2)\n",
    "3. [How to name functions](#bullet3)\n",
    "4. [Comments](#bullet4)\n",
    "5. [Practice](#bullet5)\n",
    "6. [Looking at function source code](#bullet6)\n",
    "7. [Conditional Statements](#bullet7)\n",
    "8. [Types of function args](#bullet8)\n",
    "9. [Stop functions and send an error](#bullet9)\n",
    "10. [Args and Kwargs](#bullet10)\n",
    "11. [Return statements](#bullet11)\n",
    "12. [Lazy evaluation](#bullet12)\n",
    "13. [Lexical scoping](#bullet13)"
   ]
  },
  {
   "cell_type": "code",
   "execution_count": 202,
   "id": "415253f3",
   "metadata": {},
   "outputs": [],
   "source": [
    "## importing necessary libraries\n",
    "import numpy as np\n",
    "import pandas as pd\n",
    "import scipy"
   ]
  },
  {
   "cell_type": "markdown",
   "id": "0bc1ab9e",
   "metadata": {},
   "source": [
    "## 1.  Question: What does the following code do?<a class=\"anchor\" id=\"bullet1\"></a>"
   ]
  },
  {
   "cell_type": "code",
   "execution_count": 203,
   "id": "89e61076",
   "metadata": {},
   "outputs": [],
   "source": [
    "rng = np.random.default_rng(seed=3252)\n",
    "\n",
    "a = rng.standard_normal(10)\n",
    "b = rng.standard_normal(10)\n",
    "c = rng.standard_normal(10)\n",
    "d = rng.standard_normal(10)\n",
    "\n",
    "the_dict = {'a':a,'b':b,'c':c,'d':d}\n",
    "\n",
    "df = pd.DataFrame(the_dict)"
   ]
  },
  {
   "cell_type": "markdown",
   "id": "e2105646",
   "metadata": {},
   "source": [
    "## 2. Question: What does the following code do?<a class=\"anchor\" id=\"bullet2\"></a>"
   ]
  },
  {
   "cell_type": "code",
   "execution_count": 204,
   "id": "850824af",
   "metadata": {},
   "outputs": [],
   "source": [
    "df['a'] = (df['a'] - min(df['a'])) / (max(df['a']) - min(df['a']))\n",
    "df['b'] = (df['b'] - min(df['b'])) / (max(df['b']) - min(df['b']))\n",
    "df['c'] = (df['c'] - min(df['c'])) / (max(df['a']) - min(df['c']))\n",
    "df['d'] = (df['d'] - min(df['d'])) / (max(df['d']) - min(df['d']))"
   ]
  },
  {
   "cell_type": "code",
   "execution_count": 205,
   "id": "8f2a30a7",
   "metadata": {},
   "outputs": [],
   "source": [
    "# answer: rescaling the data to have values between 0-1\n",
    "# issue: there is a mistake in the code above, can you spot it?\n",
    "# point: writing a function will simplify this code and reduce the chances for an error"
   ]
  },
  {
   "cell_type": "code",
   "execution_count": 206,
   "id": "29ef42d5",
   "metadata": {},
   "outputs": [],
   "source": [
    "#In the previous code we are trying to rescale data to values between 0 and 1\n",
    "#Let's look at one line of the code.\n",
    "df['a'] = (df['a'] - min(df['a'])) / (max(df['a']) - min(df['a']))\n",
    "\n",
    "# Question: How many inputs does the following code have?\n",
    "# Answer: One! df['a']"
   ]
  },
  {
   "cell_type": "code",
   "execution_count": 207,
   "id": "4a016045",
   "metadata": {},
   "outputs": [],
   "source": [
    "# let's write a function which simplifies the above. Before we do so, note that the general syntax for writing functions is.\n",
    "# Key parts of a function:\n",
    "# 1. You need to name the function (e.g.-rescale01)\n",
    "# 2. You need inputs (or arguments) (e.g.-function(x,y,z)\n",
    "# 3. You need code in the body of the function \n",
    "\n",
    "def function_name(arg1, arg2):\n",
    "    return # Do something!"
   ]
  },
  {
   "cell_type": "markdown",
   "id": "bd8372ea",
   "metadata": {},
   "source": [
    "Your function can have any number of inputs or arguments.  \n",
    "__Tip 1:__ When we write functions, it's a good idea to name the arguments something generic"
   ]
  },
  {
   "cell_type": "code",
   "execution_count": 208,
   "id": "22024863",
   "metadata": {},
   "outputs": [],
   "source": [
    "# Our function requires a single input, a pd.Series object, which we will name x\n",
    "def rescale01(x):\n",
    "    return (x - min(x)) / (max(x)-min(x))"
   ]
  },
  {
   "cell_type": "markdown",
   "id": "3c7eed96",
   "metadata": {},
   "source": [
    "This is a good start. But notice how we are calling min(x) two separate times. This is not ideal in two respects. First, should you ever want to update min(x) with something else, you'll have to change it everywhere in the code. Second, whenever you need the same value more than once, your code will be more readable (and faster!) if you compute it one time and store the result in a variable  \n",
    "__Tip 2:__ Within your function, make your code as concise as possible and avoid repeating the same computation multiple times "
   ]
  },
  {
   "cell_type": "code",
   "execution_count": 209,
   "id": "4b86ba3c",
   "metadata": {},
   "outputs": [],
   "source": [
    "#rather than using min() and max() to compute the range multiple times, let's use  to shorten the code\n",
    "def rescale01(x):\n",
    "    min_ = x.min()  # min and max are keywords, so the \"_\" can be appended to avoid confusion\n",
    "    max_ = x.max()\n",
    "    return ( x - min_ ) / ( max_ - min_ )"
   ]
  },
  {
   "cell_type": "code",
   "execution_count": 210,
   "id": "eea117e4",
   "metadata": {},
   "outputs": [
    {
     "name": "stdout",
     "output_type": "stream",
     "text": [
      "0    True\n",
      "1    True\n",
      "2    True\n",
      "3    True\n",
      "4    True\n",
      "5    True\n",
      "6    True\n",
      "7    True\n",
      "8    True\n",
      "9    True\n",
      "Name: a, dtype: bool\n"
     ]
    }
   ],
   "source": [
    "# does our function work?\n",
    "print(df['a'] == rescale01(df['a']))"
   ]
  },
  {
   "cell_type": "code",
   "execution_count": 211,
   "id": "3f07dafd",
   "metadata": {},
   "outputs": [
    {
     "name": "stdout",
     "output_type": "stream",
     "text": [
      "0    True\n",
      "1    True\n",
      "2    True\n",
      "3    True\n",
      "4    True\n",
      "5    True\n",
      "6    True\n",
      "7    True\n",
      "8    True\n",
      "9    True\n",
      "Name: b, dtype: bool\n"
     ]
    }
   ],
   "source": [
    "print(df['b'] == rescale01(df['b']))"
   ]
  },
  {
   "cell_type": "code",
   "execution_count": 212,
   "id": "aa66b728",
   "metadata": {},
   "outputs": [
    {
     "name": "stdout",
     "output_type": "stream",
     "text": [
      "0    False\n",
      "1    False\n",
      "2    False\n",
      "3    False\n",
      "4    False\n",
      "5    False\n",
      "6    False\n",
      "7    False\n",
      "8    False\n",
      "9     True\n",
      "Name: c, dtype: bool\n"
     ]
    }
   ],
   "source": [
    "print(df['c'] == rescale01(df['c']))"
   ]
  },
  {
   "cell_type": "code",
   "execution_count": 213,
   "id": "14318d1c",
   "metadata": {},
   "outputs": [
    {
     "name": "stdout",
     "output_type": "stream",
     "text": [
      "0    True\n",
      "1    True\n",
      "2    True\n",
      "3    True\n",
      "4    True\n",
      "5    True\n",
      "6    True\n",
      "7    True\n",
      "8    True\n",
      "9    True\n",
      "Name: d, dtype: bool\n"
     ]
    }
   ],
   "source": [
    "print(df['d'] == rescale01(df['d']))"
   ]
  },
  {
   "cell_type": "code",
   "execution_count": 214,
   "id": "dd1f25ef",
   "metadata": {},
   "outputs": [],
   "source": [
    "# Compare this to the original code.\n",
    "# question: is it easier to understand what the point of the code is?\n",
    "# question: is it easier to read/less complex?\n",
    "\n",
    "# answers:  YES!!\n",
    "# also note, the code will be easier to change in the future"
   ]
  },
  {
   "cell_type": "code",
   "execution_count": 215,
   "id": "bd831f72",
   "metadata": {},
   "outputs": [
    {
     "data": {
      "text/plain": [
       "0    0.0\n",
       "1    0.0\n",
       "2    0.0\n",
       "3    0.0\n",
       "4    NaN\n",
       "dtype: float64"
      ]
     },
     "execution_count": 215,
     "metadata": {},
     "output_type": "execute_result"
    }
   ],
   "source": [
    "# example: the following fails - it returns incorrect values because of the np.inf element\n",
    "x = pd.Series([1, 2, 3, 4, np.inf])\n",
    "rescale01(x)"
   ]
  },
  {
   "cell_type": "markdown",
   "id": "56150225",
   "metadata": {},
   "source": [
    "#### Challenge: Fix the function above so that if np.inf values are passed in, the function won't fail"
   ]
  },
  {
   "cell_type": "code",
   "execution_count": 216,
   "id": "2a1a7407",
   "metadata": {},
   "outputs": [],
   "source": [
    "# Let's go back to the original function and recode it to fix the problem:\n"
   ]
  },
  {
   "cell_type": "code",
   "execution_count": 217,
   "id": "8c375170",
   "metadata": {},
   "outputs": [],
   "source": [
    "# The above ensures that our range includes numeric values (not Infs)"
   ]
  },
  {
   "cell_type": "markdown",
   "id": "9c342f9b",
   "metadata": {},
   "source": [
    "Coding best practices: __\"Do not Repeat Yourself\" (aka \"DRY\")__. More repitition in code means higher chance of having errors in code."
   ]
  },
  {
   "cell_type": "markdown",
   "id": "54a8569d",
   "metadata": {},
   "source": [
    "## 3. How to name functions<a class=\"anchor\" id=\"bullet3\"></a>"
   ]
  },
  {
   "cell_type": "code",
   "execution_count": 218,
   "id": "65ea1916",
   "metadata": {},
   "outputs": [
    {
     "ename": "NameError",
     "evalue": "name 'f' is not defined",
     "output_type": "error",
     "traceback": [
      "\u001b[1;31m---------------------------------------------------------------------------\u001b[0m",
      "\u001b[1;31mNameError\u001b[0m                                 Traceback (most recent call last)",
      "\u001b[1;32m~\\AppData\\Local\\Temp\\ipykernel_32632\\866106335.py\u001b[0m in \u001b[0;36m<module>\u001b[1;34m\u001b[0m\n\u001b[0;32m      4\u001b[0m \u001b[1;33m\u001b[0m\u001b[0m\n\u001b[0;32m      5\u001b[0m \u001b[1;31m# Too short\u001b[0m\u001b[1;33m\u001b[0m\u001b[1;33m\u001b[0m\u001b[0m\n\u001b[1;32m----> 6\u001b[1;33m \u001b[0mf\u001b[0m\u001b[1;33m(\u001b[0m\u001b[1;33m)\u001b[0m\u001b[1;33m\u001b[0m\u001b[1;33m\u001b[0m\u001b[0m\n\u001b[0m\u001b[0;32m      7\u001b[0m \u001b[1;33m\u001b[0m\u001b[0m\n\u001b[0;32m      8\u001b[0m \u001b[1;31m# Not a verb, or descriptive\u001b[0m\u001b[1;33m\u001b[0m\u001b[1;33m\u001b[0m\u001b[0m\n",
      "\u001b[1;31mNameError\u001b[0m: name 'f' is not defined"
     ]
    }
   ],
   "source": [
    "# Name should be as short as possible and should make clear what function does\n",
    "\n",
    "# Verbs better than nouns if possible\n",
    "\n",
    "# Too short\n",
    "f()\n",
    "\n",
    "# Not a verb, or descriptive\n",
    "my_awesome_function()\n",
    "\n",
    "# Long, but clear\n",
    "impute_missing()\n",
    "collapse_years()\n",
    "\n",
    "\n",
    "#snake case versus camel case\n",
    "#snake case is when you write the function name in the following way:\n",
    "\n",
    "snake_case()\n",
    "\n",
    "# don't do this\n",
    "add.period() \n",
    "\n",
    "# Camel case is written in the following manner:\n",
    "# but it's 2023, so not in vouge anymore\n",
    "camelCase()\n",
    "\n",
    "# whichever you choose, be consistent rather than moving back and forth\n",
    "# i.e.- don't do the following:\n",
    "\n",
    "def col_mins(x,y): \n",
    "    return min(x,y)\n",
    "\n",
    "def rowMaxes(x,y): \n",
    "    return max(x,y)\n",
    "\n",
    "\n",
    "\n",
    "# If you have a group of functions working towards a similar goal\n",
    "# try to keep the naming conventions in the same order as arguments\n",
    "\n",
    "# Good\n",
    "input_select()\n",
    "input_checkbox()\n",
    "input_text()\n",
    "\n",
    "# Not so good\n",
    "select_input()\n",
    "checkbox_input()\n",
    "text_input()"
   ]
  },
  {
   "cell_type": "code",
   "execution_count": 219,
   "id": "85230528",
   "metadata": {},
   "outputs": [],
   "source": [
    "# Moreover, try not to write functions that overwrite functions or variables\n",
    "# that are already a part of python.  \n",
    "\n",
    "int = 0 # int is used to instantiate an integer"
   ]
  },
  {
   "cell_type": "markdown",
   "id": "c84db69e",
   "metadata": {},
   "source": [
    "## 4. Comments<a class=\"anchor\" id=\"bullet4\"></a>"
   ]
  },
  {
   "cell_type": "code",
   "execution_count": 220,
   "id": "208eb758",
   "metadata": {},
   "outputs": [
    {
     "ename": "SyntaxError",
     "evalue": "invalid syntax (3513960872.py, line 9)",
     "output_type": "error",
     "traceback": [
      "\u001b[1;36m  File \u001b[1;32m\"C:\\Users\\nicka\\AppData\\Local\\Temp\\ipykernel_32632\\3513960872.py\"\u001b[1;36m, line \u001b[1;32m9\u001b[0m\n\u001b[1;33m    code entered here\u001b[0m\n\u001b[1;37m         ^\u001b[0m\n\u001b[1;31mSyntaxError\u001b[0m\u001b[1;31m:\u001b[0m invalid syntax\n"
     ]
    }
   ],
   "source": [
    "# Now a few comments about comments...\n",
    "\n",
    "# Comments should explain the why of the code rather than the what or the how\n",
    "# the what or the how should be obvious in the code itself\n",
    "\n",
    "# to break code into chunks that are easy to read use \"-\" or \"=\"\n",
    "\n",
    "# Load data------------------------------------------------------------\n",
    "code entered here\n",
    "\n",
    "#Plot data============================================================\n",
    "code entered here"
   ]
  },
  {
   "cell_type": "markdown",
   "id": "ef16560a",
   "metadata": {},
   "source": [
    "## 5. Practice<a class=\"anchor\" id=\"bullet5\"></a>"
   ]
  },
  {
   "cell_type": "code",
   "execution_count": 221,
   "id": "f66c3e69",
   "metadata": {},
   "outputs": [],
   "source": [
    "# Practice naming functions: Read the source code for each of the following \n",
    "# three functions, puzzle out what they do, and then brainstorm better names."
   ]
  },
  {
   "cell_type": "code",
   "execution_count": 222,
   "id": "83220af6",
   "metadata": {},
   "outputs": [],
   "source": [
    "def prefix_match(string, prefix):\n",
    "    temp = string.find(prefix)\n",
    "    if temp == -1:\n",
    "        return False\n",
    "    else:\n",
    "        return True "
   ]
  },
  {
   "cell_type": "code",
   "execution_count": 20,
   "id": "b12203d3",
   "metadata": {},
   "outputs": [
    {
     "data": {
      "text/plain": [
       "True"
      ]
     },
     "execution_count": 20,
     "metadata": {},
     "output_type": "execute_result"
    }
   ],
   "source": [
    "prefix_match('dog', 'do')"
   ]
  },
  {
   "cell_type": "code",
   "execution_count": 21,
   "id": "018c11ef",
   "metadata": {},
   "outputs": [
    {
     "data": {
      "text/plain": [
       "False"
      ]
     },
     "execution_count": 21,
     "metadata": {},
     "output_type": "execute_result"
    }
   ],
   "source": [
    "prefix_match('dog', 'st')"
   ]
  },
  {
   "cell_type": "code",
   "execution_count": 22,
   "id": "fa1fe2eb",
   "metadata": {},
   "outputs": [],
   "source": [
    "def remove_last(x):\n",
    "    if len(x) <= 1:\n",
    "        return None\n",
    "    return x[:-1]"
   ]
  },
  {
   "cell_type": "code",
   "execution_count": 23,
   "id": "d4f2b133",
   "metadata": {},
   "outputs": [
    {
     "data": {
      "text/plain": [
       "'do'"
      ]
     },
     "execution_count": 23,
     "metadata": {},
     "output_type": "execute_result"
    }
   ],
   "source": [
    "remove_last(\"dog\")"
   ]
  },
  {
   "cell_type": "code",
   "execution_count": 24,
   "id": "4d3b18d5",
   "metadata": {},
   "outputs": [
    {
     "data": {
      "text/plain": [
       "[1, 2, 3, 4]"
      ]
     },
     "execution_count": 24,
     "metadata": {},
     "output_type": "execute_result"
    }
   ],
   "source": [
    "remove_last([1, 2, 3, 4, 5])"
   ]
  },
  {
   "cell_type": "code",
   "execution_count": 25,
   "id": "e150526b",
   "metadata": {},
   "outputs": [],
   "source": [
    "def match_length(x, y):\n",
    "    lst = []\n",
    "    \n",
    "    for i in range(len(x)):\n",
    "        lst.append(y)\n",
    "    return lst"
   ]
  },
  {
   "cell_type": "code",
   "execution_count": 26,
   "id": "5ad43f5d",
   "metadata": {},
   "outputs": [
    {
     "ename": "TypeError",
     "evalue": "'int' object is not callable",
     "output_type": "error",
     "traceback": [
      "\u001b[0;31m---------------------------------------------------------------------------\u001b[0m",
      "\u001b[0;31mTypeError\u001b[0m                                 Traceback (most recent call last)",
      "Cell \u001b[0;32mIn [26], line 1\u001b[0m\n\u001b[0;32m----> 1\u001b[0m \u001b[43mmatch_length\u001b[49m\u001b[43m(\u001b[49m\u001b[38;5;124;43m\"\u001b[39;49m\u001b[38;5;124;43mdog\u001b[39;49m\u001b[38;5;124;43m\"\u001b[39;49m\u001b[43m,\u001b[49m\u001b[43m \u001b[49m\u001b[38;5;124;43m\"\u001b[39;49m\u001b[38;5;124;43md\u001b[39;49m\u001b[38;5;124;43m\"\u001b[39;49m\u001b[43m)\u001b[49m\n",
      "Cell \u001b[0;32mIn [25], line 4\u001b[0m, in \u001b[0;36mmatch_length\u001b[0;34m(x, y)\u001b[0m\n\u001b[1;32m      1\u001b[0m \u001b[38;5;28;01mdef\u001b[39;00m \u001b[38;5;21mmatch_length\u001b[39m(x, y):\n\u001b[1;32m      2\u001b[0m     lst \u001b[38;5;241m=\u001b[39m []\n\u001b[0;32m----> 4\u001b[0m     \u001b[38;5;28;01mfor\u001b[39;00m i \u001b[38;5;129;01min\u001b[39;00m \u001b[38;5;28;43mrange\u001b[39;49m\u001b[43m(\u001b[49m\u001b[38;5;28;43mlen\u001b[39;49m\u001b[43m(\u001b[49m\u001b[43mx\u001b[49m\u001b[43m)\u001b[49m\u001b[43m)\u001b[49m:\n\u001b[1;32m      5\u001b[0m         lst\u001b[38;5;241m.\u001b[39mappend(y)\n\u001b[1;32m      6\u001b[0m     \u001b[38;5;28;01mreturn\u001b[39;00m lst\n",
      "\u001b[0;31mTypeError\u001b[0m: 'int' object is not callable"
     ]
    }
   ],
   "source": [
    "match_length(\"dog\", \"d\")"
   ]
  },
  {
   "cell_type": "markdown",
   "id": "17d43024",
   "metadata": {},
   "source": [
    "## 6. Looking at function source code<a class=\"anchor\" id=\"bullet6\"></a>"
   ]
  },
  {
   "cell_type": "code",
   "execution_count": 89,
   "id": "12b72fa7",
   "metadata": {},
   "outputs": [],
   "source": [
    "?np.mean"
   ]
  },
  {
   "cell_type": "code",
   "execution_count": 90,
   "id": "5c556dde",
   "metadata": {},
   "outputs": [],
   "source": [
    "?rescale01 # Our function"
   ]
  },
  {
   "cell_type": "markdown",
   "id": "cf082359",
   "metadata": {},
   "source": [
    "## 7. Conditional Statements<a class=\"anchor\" id=\"bullet7\"></a>"
   ]
  },
  {
   "cell_type": "code",
   "execution_count": 29,
   "id": "574b6f31",
   "metadata": {},
   "outputs": [
    {
     "ename": "IndentationError",
     "evalue": "expected an indented block after 'if' statement on line 3 (263122859.py, line 5)",
     "output_type": "error",
     "traceback": [
      "\u001b[0;36m  Cell \u001b[0;32mIn [29], line 5\u001b[0;36m\u001b[0m\n\u001b[0;31m    else:\u001b[0m\n\u001b[0m    ^\u001b[0m\n\u001b[0;31mIndentationError\u001b[0m\u001b[0;31m:\u001b[0m expected an indented block after 'if' statement on line 3\n"
     ]
    }
   ],
   "source": [
    "#looks like the following:\n",
    "\n",
    "if (condition):\n",
    "  # code executed when condition is TRUE\n",
    "else:\n",
    "  # code executed when condition is FALSE"
   ]
  },
  {
   "cell_type": "code",
   "execution_count": 30,
   "id": "e27de42b",
   "metadata": {},
   "outputs": [],
   "source": [
    "# example of a function using if then statements ...\n",
    "\n",
    "def temp1(x):\n",
    "    if x % 2 == 0:\n",
    "        return True\n",
    "    return False\n",
    "\n",
    "# why does this work without an else clause?\n",
    "# what does this function do?"
   ]
  },
  {
   "cell_type": "code",
   "execution_count": 31,
   "id": "b96d51b8",
   "metadata": {},
   "outputs": [],
   "source": [
    "# can search for several conditions using & or |\n",
    "\n",
    "def temp2(x):\n",
    "    if (x % 2 == 0) & (x % 5 == 0):\n",
    "        return True\n",
    "    return False\n",
    "\n",
    "def temp3(x):\n",
    "    if (x % 2 == 0) | (x % 5 == 0):\n",
    "        return True\n",
    "    return False\n",
    "# what is the difference between these functions?"
   ]
  },
  {
   "cell_type": "code",
   "execution_count": 32,
   "id": "f6314b3a",
   "metadata": {},
   "outputs": [
    {
     "ename": "IndentationError",
     "evalue": "expected an indented block after 'if' statement on line 2 (2076156245.py, line 4)",
     "output_type": "error",
     "traceback": [
      "\u001b[0;36m  Cell \u001b[0;32mIn [32], line 4\u001b[0;36m\u001b[0m\n\u001b[0;31m    elif (condition):\u001b[0m\n\u001b[0m    ^\u001b[0m\n\u001b[0;31mIndentationError\u001b[0m\u001b[0;31m:\u001b[0m expected an indented block after 'if' statement on line 2\n"
     ]
    }
   ],
   "source": [
    "# multiple conditions\n",
    "if (condition):\n",
    "    # do this\n",
    "elif (condition):\n",
    "    # do this\n",
    "else:\n",
    "    # do this"
   ]
  },
  {
   "cell_type": "code",
   "execution_count": 92,
   "id": "00a7c526",
   "metadata": {},
   "outputs": [
    {
     "name": "stdout",
     "output_type": "stream",
     "text": [
      "I'm not a unitary vector\n"
     ]
    }
   ],
   "source": [
    "vec = [1, 3, 5, 7, 9]\n",
    "if sum(vec) < 1:\n",
    "    print(\"empty list\")\n",
    "elif sum(vec) == 1:\n",
    "    print(\"I'm a unitary vector\")\n",
    "else:\n",
    "    print(\"I'm not a unitary vector\")"
   ]
  },
  {
   "cell_type": "code",
   "execution_count": 34,
   "id": "9099cee1",
   "metadata": {},
   "outputs": [],
   "source": [
    "# any() and all() are also helpful if your condition returns a vector and\n",
    "# you need to collapse to a single TRUE/FALSE statement"
   ]
  },
  {
   "cell_type": "code",
   "execution_count": 35,
   "id": "16ebba7d",
   "metadata": {},
   "outputs": [
    {
     "data": {
      "text/plain": [
       "True"
      ]
     },
     "execution_count": 35,
     "metadata": {},
     "output_type": "execute_result"
    }
   ],
   "source": [
    "any([True, False, False])"
   ]
  },
  {
   "cell_type": "code",
   "execution_count": 36,
   "id": "5129cf75",
   "metadata": {},
   "outputs": [
    {
     "data": {
      "text/plain": [
       "False"
      ]
     },
     "execution_count": 36,
     "metadata": {},
     "output_type": "execute_result"
    }
   ],
   "source": [
    "all([True, False, False])"
   ]
  },
  {
   "cell_type": "code",
   "execution_count": 37,
   "id": "b8c2f5fc",
   "metadata": {},
   "outputs": [
    {
     "data": {
      "text/plain": [
       "True"
      ]
     },
     "execution_count": 37,
     "metadata": {},
     "output_type": "execute_result"
    }
   ],
   "source": [
    "any([True if i > np.mean(vec) else False for i in vec])"
   ]
  },
  {
   "cell_type": "code",
   "execution_count": 38,
   "id": "3cb02147",
   "metadata": {},
   "outputs": [
    {
     "data": {
      "text/plain": [
       "False"
      ]
     },
     "execution_count": 38,
     "metadata": {},
     "output_type": "execute_result"
    }
   ],
   "source": [
    "all([True if i > np.mean(vec) else False for i in vec])"
   ]
  },
  {
   "cell_type": "markdown",
   "id": "05c25709",
   "metadata": {},
   "source": [
    "##### Question: what is the difference between any and all?"
   ]
  },
  {
   "cell_type": "markdown",
   "id": "708ffcaa",
   "metadata": {},
   "source": [
    "## 8. Types of function args<a class=\"anchor\" id=\"bullet8\"></a>"
   ]
  },
  {
   "cell_type": "code",
   "execution_count": 93,
   "id": "249b2a73",
   "metadata": {},
   "outputs": [
    {
     "data": {
      "text/plain": [
       "6378.5"
      ]
     },
     "execution_count": 93,
     "metadata": {},
     "output_type": "execute_result"
    }
   ],
   "source": [
    "#two broad types: data args and args that control details of computation\n",
    "\n",
    "#example:\n",
    "\n",
    "x = pd.Series([1, 24, 4325, 8432, 34])\n",
    "\n",
    "def my_mean(lst, condition=False):\n",
    "    temp = x\n",
    "    if condition:\n",
    "        temp = [i for i in lst if i > 1000]\n",
    "    return sum(temp)/len(temp)\n",
    "        \n",
    "\n",
    "my_mean(x, condition=True)\n",
    "\n",
    "# lst refers to the data and condition=False is set to False by default\n",
    "# which controls details of computation in function\n",
    "\n",
    "# data arguments should come first followed by args with details for computation"
   ]
  },
  {
   "cell_type": "code",
   "execution_count": 97,
   "id": "59523a70",
   "metadata": {},
   "outputs": [],
   "source": [
    "# another example:\n",
    "# compute confidence interval around mean using normal approximation\n",
    "def mean_ci(x, conf = 0.95):\n",
    "    se = np.std(x) / np.sqrt(len(x))\n",
    "    alpha = 1 - conf\n",
    "    return np.mean(x) + se * scipy.stats.norm.ppf([alpha/2, 1 - alpha/2])"
   ]
  },
  {
   "cell_type": "code",
   "execution_count": 115,
   "id": "3103cd9f",
   "metadata": {},
   "outputs": [
    {
     "name": "stdout",
     "output_type": "stream",
     "text": [
      "X    Freq\n",
      "0       1\n",
      "1      24\n",
      "2    4325\n",
      "3    8432\n",
      "4      34\n",
      "dtype: int64\n",
      "\n",
      "\n",
      "Mean: 2563.2\n",
      "The 95% CI is ([-395.13852072 5521.53852072])\n"
     ]
    }
   ],
   "source": [
    "print(\"X    Freq\")\n",
    "print(x)\n",
    "print(\"\\n\")\n",
    "print(\"Mean: \"+  str(my_mean(x)))\n",
    "print(\"The 95% CI is (\" + str(mean_ci(x, conf=0.95)) + \")\")"
   ]
  },
  {
   "cell_type": "markdown",
   "id": "e7b3f5bc",
   "metadata": {},
   "source": [
    "##### Question: Why is this 95% CI for the mean so wide?"
   ]
  },
  {
   "cell_type": "code",
   "execution_count": 125,
   "id": "702cd7ab",
   "metadata": {},
   "outputs": [
    {
     "name": "stdout",
     "output_type": "stream",
     "text": [
      "Mean: 50.123\n",
      "The 95% CI is ([48.31894306 51.92760113])\n"
     ]
    }
   ],
   "source": [
    "x = np.random.uniform(1,100,1000)\n",
    "print(\"Mean: \"+  str(round(my_mean(x), 3)))\n",
    "print(\"The 95% CI is (\" + str(mean_ci(x, conf=0.95)) + \")\")"
   ]
  },
  {
   "cell_type": "code",
   "execution_count": 126,
   "id": "0923e566",
   "metadata": {},
   "outputs": [
    {
     "name": "stdout",
     "output_type": "stream",
     "text": [
      "Mean: 56.15\n",
      "The 95% CI is ([41.32501528 70.9754169 ])\n"
     ]
    }
   ],
   "source": [
    "x = np.random.uniform(1,100,10)\n",
    "print(\"Mean: \"+  str(round(my_mean(x), 3)))\n",
    "print(\"The 95% CI is (\" + str(mean_ci(x, conf=0.95)) + \")\")"
   ]
  },
  {
   "cell_type": "markdown",
   "id": "59ad1041",
   "metadata": {},
   "source": [
    "## 9. Stop functions and send an error<a class=\"anchor\" id=\"bullet9\"></a>"
   ]
  },
  {
   "cell_type": "code",
   "execution_count": 130,
   "id": "2d728abc",
   "metadata": {},
   "outputs": [
    {
     "data": {
      "text/plain": [
       "3"
      ]
     },
     "execution_count": 130,
     "metadata": {},
     "output_type": "execute_result"
    }
   ],
   "source": [
    "len([4,5,6])"
   ]
  },
  {
   "cell_type": "code",
   "execution_count": 169,
   "id": "4667c6c6",
   "metadata": {},
   "outputs": [],
   "source": [
    "# It's good practice to check important preconditions, and throw an error if they are not true:\n",
    "def wt_mean(x, w):\n",
    "    assert len(x) == len(w), \"x and w must be the same length!!!\"\n",
    "    return sum(np.multiply(x, w))/sum(w)\n"
   ]
  },
  {
   "cell_type": "code",
   "execution_count": 172,
   "id": "436f6058",
   "metadata": {},
   "outputs": [
    {
     "name": "stdout",
     "output_type": "stream",
     "text": [
      "The weighted mean of x is: 2.0\n"
     ]
    }
   ],
   "source": [
    "x = [1,2,3]\n",
    "w = [1,1,1]\n",
    "print(\"The weighted mean of x is: \" + str(wt_mean(x, w)))"
   ]
  },
  {
   "cell_type": "code",
   "execution_count": 170,
   "id": "c1fa9998",
   "metadata": {},
   "outputs": [
    {
     "ename": "AssertionError",
     "evalue": "x and w must be the same length!!!",
     "output_type": "error",
     "traceback": [
      "\u001b[1;31m---------------------------------------------------------------------------\u001b[0m",
      "\u001b[1;31mAssertionError\u001b[0m                            Traceback (most recent call last)",
      "\u001b[1;32m~\\AppData\\Local\\Temp\\ipykernel_32632\\1952186181.py\u001b[0m in \u001b[0;36m<module>\u001b[1;34m\u001b[0m\n\u001b[0;32m      1\u001b[0m \u001b[0mx\u001b[0m \u001b[1;33m=\u001b[0m \u001b[1;33m[\u001b[0m\u001b[1;36m1\u001b[0m\u001b[1;33m,\u001b[0m\u001b[1;36m2\u001b[0m\u001b[1;33m,\u001b[0m\u001b[1;36m3\u001b[0m\u001b[1;33m]\u001b[0m\u001b[1;33m\u001b[0m\u001b[1;33m\u001b[0m\u001b[0m\n\u001b[0;32m      2\u001b[0m \u001b[0mw\u001b[0m \u001b[1;33m=\u001b[0m \u001b[1;33m[\u001b[0m\u001b[1;36m1\u001b[0m\u001b[1;33m,\u001b[0m\u001b[1;36m1\u001b[0m\u001b[1;33m,\u001b[0m\u001b[1;36m1\u001b[0m\u001b[1;33m,\u001b[0m\u001b[1;36m1\u001b[0m\u001b[1;33m]\u001b[0m\u001b[1;33m\u001b[0m\u001b[1;33m\u001b[0m\u001b[0m\n\u001b[1;32m----> 3\u001b[1;33m \u001b[0mwt_mean\u001b[0m\u001b[1;33m(\u001b[0m\u001b[0mx\u001b[0m\u001b[1;33m,\u001b[0m \u001b[0mw\u001b[0m\u001b[1;33m)\u001b[0m\u001b[1;33m\u001b[0m\u001b[1;33m\u001b[0m\u001b[0m\n\u001b[0m",
      "\u001b[1;32m~\\AppData\\Local\\Temp\\ipykernel_32632\\833215348.py\u001b[0m in \u001b[0;36mwt_mean\u001b[1;34m(x, w)\u001b[0m\n\u001b[0;32m      1\u001b[0m \u001b[1;31m# It's good practice to check important preconditions, and throw an error if they are not true:\u001b[0m\u001b[1;33m\u001b[0m\u001b[1;33m\u001b[0m\u001b[0m\n\u001b[0;32m      2\u001b[0m \u001b[1;32mdef\u001b[0m \u001b[0mwt_mean\u001b[0m\u001b[1;33m(\u001b[0m\u001b[0mx\u001b[0m\u001b[1;33m,\u001b[0m \u001b[0mw\u001b[0m\u001b[1;33m)\u001b[0m\u001b[1;33m:\u001b[0m\u001b[1;33m\u001b[0m\u001b[1;33m\u001b[0m\u001b[0m\n\u001b[1;32m----> 3\u001b[1;33m     \u001b[1;32massert\u001b[0m \u001b[0mlen\u001b[0m\u001b[1;33m(\u001b[0m\u001b[0mx\u001b[0m\u001b[1;33m)\u001b[0m \u001b[1;33m==\u001b[0m \u001b[0mlen\u001b[0m\u001b[1;33m(\u001b[0m\u001b[0mw\u001b[0m\u001b[1;33m)\u001b[0m\u001b[1;33m,\u001b[0m \u001b[1;34m\"x and w must be the same length!!!\"\u001b[0m\u001b[1;33m\u001b[0m\u001b[1;33m\u001b[0m\u001b[0m\n\u001b[0m\u001b[0;32m      4\u001b[0m     \u001b[1;32mreturn\u001b[0m \u001b[0msum\u001b[0m\u001b[1;33m(\u001b[0m\u001b[0mnp\u001b[0m\u001b[1;33m.\u001b[0m\u001b[0mmultiply\u001b[0m\u001b[1;33m(\u001b[0m\u001b[0mx\u001b[0m\u001b[1;33m,\u001b[0m \u001b[0mw\u001b[0m\u001b[1;33m)\u001b[0m\u001b[1;33m)\u001b[0m\u001b[1;33m/\u001b[0m\u001b[0msum\u001b[0m\u001b[1;33m(\u001b[0m\u001b[0mw\u001b[0m\u001b[1;33m)\u001b[0m\u001b[1;33m\u001b[0m\u001b[1;33m\u001b[0m\u001b[0m\n",
      "\u001b[1;31mAssertionError\u001b[0m: x and w must be the same length!!!"
     ]
    }
   ],
   "source": [
    "x = [1,2,3]\n",
    "w = [1,1,1,1]\n",
    "wt_mean(x, w)"
   ]
  },
  {
   "cell_type": "markdown",
   "id": "4d69ba90",
   "metadata": {},
   "source": [
    "###### Question: What is does the wt_mean() function call below return? "
   ]
  },
  {
   "cell_type": "code",
   "execution_count": null,
   "id": "ead05982",
   "metadata": {},
   "outputs": [],
   "source": [
    "x = [1,2,3]\n",
    "w = [1,1,10]\n",
    "wt_mean(x, w)\n",
    "print(\" \")"
   ]
  },
  {
   "cell_type": "markdown",
   "id": "7e557235",
   "metadata": {},
   "source": [
    "## 10. Args and Kwargs<a class=\"anchor\" id=\"bullet10\"></a>"
   ]
  },
  {
   "cell_type": "markdown",
   "id": "d33883a6",
   "metadata": {},
   "source": [
    "__*args__ is used if you need to pass a variable number of objects into the function. The asterisk * is a tuple __unpacking operator__"
   ]
  },
  {
   "cell_type": "code",
   "execution_count": 190,
   "id": "0bd03f69",
   "metadata": {},
   "outputs": [
    {
     "name": "stdout",
     "output_type": "stream",
     "text": [
      "6\n",
      "=======\n",
      "15\n"
     ]
    }
   ],
   "source": [
    "def my_sum(*args):\n",
    "    result = 0\n",
    "    # Iterating over the Python args tuple\n",
    "    for x in args:\n",
    "        result += x\n",
    "    return result\n",
    "print(my_sum(1, 2, 3))\n",
    "print(\"=======\\n\" + str(my_sum(1, 2, 3, 4, 5)))"
   ]
  },
  {
   "cell_type": "markdown",
   "id": "ae4ded43",
   "metadata": {},
   "source": [
    "__**kwargs__ is like args, except you can pass multiple __named__ arguments. The double asterisks ** are a __dictionary unpacking operator__"
   ]
  },
  {
   "cell_type": "code",
   "execution_count": 193,
   "id": "099fb712",
   "metadata": {},
   "outputs": [
    {
     "name": "stdout",
     "output_type": "stream",
     "text": [
      "Python Is Great!\n"
     ]
    }
   ],
   "source": [
    "def concatenate(**kwargs):\n",
    "    result = \"\"\n",
    "    # Iterating over the Python kwargs dictionary\n",
    "    for arg in kwargs.values():\n",
    "        result += arg\n",
    "    return result\n",
    "\n",
    "print(concatenate(b=\"Python \", c=\"Is \", d=\"Great\", e=\"!\"))"
   ]
  },
  {
   "cell_type": "code",
   "execution_count": null,
   "id": "c7cb6da6",
   "metadata": {},
   "outputs": [],
   "source": [
    "def concatenate(**kwargs):\n",
    "    result = \"\"\n",
    "    # Iterating over the Python kwargs dictionary\n",
    "    for arg in kwargs.values():\n",
    "        result += arg\n",
    "    return result"
   ]
  },
  {
   "cell_type": "code",
   "execution_count": 158,
   "id": "82b4ddeb",
   "metadata": {},
   "outputs": [],
   "source": [
    "def foo1(a, *args):\n",
    "    print(f\"a is: {a}\")\n",
    "    print(f\"args are: {args}\") # args takes in tuple packing"
   ]
  },
  {
   "cell_type": "code",
   "execution_count": 159,
   "id": "7063c53f",
   "metadata": {},
   "outputs": [
    {
     "name": "stdout",
     "output_type": "stream",
     "text": [
      "a is: 1\n",
      "args are: ()\n"
     ]
    }
   ],
   "source": [
    "foo1(1)"
   ]
  },
  {
   "cell_type": "code",
   "execution_count": 160,
   "id": "99f85b31",
   "metadata": {},
   "outputs": [
    {
     "name": "stdout",
     "output_type": "stream",
     "text": [
      "a is: 1\n",
      "args are: (2, 3, 4)\n"
     ]
    }
   ],
   "source": [
    "foo1(1, 2, 3, 4)"
   ]
  },
  {
   "cell_type": "code",
   "execution_count": 161,
   "id": "3602720f",
   "metadata": {},
   "outputs": [],
   "source": [
    "def foo2(a, **kwargs):\n",
    "    print(f\"a is: {a}\")\n",
    "    print(f\"kwargs are: {kwargs}\") # kwargs takes in dictionary packing"
   ]
  },
  {
   "cell_type": "code",
   "execution_count": 162,
   "id": "69df80c8",
   "metadata": {},
   "outputs": [
    {
     "name": "stdout",
     "output_type": "stream",
     "text": [
      "a is: 1\n",
      "kwargs are: {}\n"
     ]
    }
   ],
   "source": [
    "foo2(1)"
   ]
  },
  {
   "cell_type": "code",
   "execution_count": 50,
   "id": "a35b2d82",
   "metadata": {},
   "outputs": [
    {
     "name": "stdout",
     "output_type": "stream",
     "text": [
      "a is: 1\n",
      "kwargs are: {'b': 2, 'c': 3, 'd': 4}\n"
     ]
    }
   ],
   "source": [
    "foo2(1, b=2, c=3, d=4)"
   ]
  },
  {
   "cell_type": "code",
   "execution_count": 51,
   "id": "7e0cbdd6",
   "metadata": {},
   "outputs": [],
   "source": [
    "# can use them together\n",
    "def foo(a, *args, **kwargs):\n",
    "    print(f\"a is: {a}\")\n",
    "    print(f\"args are: {args}\")\n",
    "    print(f\"kwargs are: {kwargs}\")"
   ]
  },
  {
   "cell_type": "code",
   "execution_count": 52,
   "id": "f78b07e0",
   "metadata": {},
   "outputs": [
    {
     "name": "stdout",
     "output_type": "stream",
     "text": [
      "a is: 1\n",
      "args are: (2, 3)\n",
      "kwargs are: {'d': 4, 'e': 5}\n"
     ]
    }
   ],
   "source": [
    "foo(1, 2, 3, d=4, e=5)"
   ]
  },
  {
   "cell_type": "code",
   "execution_count": 194,
   "id": "81615256",
   "metadata": {},
   "outputs": [
    {
     "name": "stdout",
     "output_type": "stream",
     "text": [
      "[1, 2, 3]\n"
     ]
    }
   ],
   "source": [
    "# print_list.py\n",
    "my_list = [1, 2, 3]\n",
    "print(my_list)"
   ]
  },
  {
   "cell_type": "code",
   "execution_count": 199,
   "id": "fdb501ae",
   "metadata": {},
   "outputs": [
    {
     "name": "stdout",
     "output_type": "stream",
     "text": [
      "[1, 2, 3]\n",
      "1 2 3\n"
     ]
    }
   ],
   "source": [
    "my_list = [1, 2, 3]\n",
    "print(my_list)   # print list\n",
    "print(*my_list)  # print unpacked list, which is just the contents of the previous list"
   ]
  },
  {
   "cell_type": "code",
   "execution_count": 200,
   "id": "127f5f9a",
   "metadata": {},
   "outputs": [
    {
     "name": "stdout",
     "output_type": "stream",
     "text": [
      "45\n"
     ]
    }
   ],
   "source": [
    "def my_sum(*args):\n",
    "    result = 0\n",
    "    for x in args:\n",
    "        result += x\n",
    "    return result\n",
    "\n",
    "list1 = [1, 2, 3]\n",
    "list2 = [4, 5]\n",
    "list3 = [6, 7, 8, 9]\n",
    "\n",
    "print(my_sum(*list1, *list2, *list3))"
   ]
  },
  {
   "cell_type": "markdown",
   "id": "ae9da863",
   "metadata": {},
   "source": [
    "## 11. Return statements <a class=\"anchor\" id=\"bullet11\"></a>\n",
    "\n",
    "Throughout all the functions we have seen, there have been return statements. What do they do?"
   ]
  },
  {
   "cell_type": "code",
   "execution_count": 53,
   "id": "aecb21fc",
   "metadata": {},
   "outputs": [],
   "source": [
    "# When create a function you may want to return some information. "
   ]
  },
  {
   "cell_type": "code",
   "execution_count": 201,
   "id": "36b55223",
   "metadata": {},
   "outputs": [],
   "source": [
    "# example\n",
    "def check(x):\n",
    "    result = ''\n",
    "    if x > 0:\n",
    "        result = 'Positive'\n",
    "    elif x < 0:\n",
    "        result = 'Negative'\n",
    "    else:\n",
    "        result = 'Zero'\n",
    "    return result"
   ]
  },
  {
   "cell_type": "code",
   "execution_count": 55,
   "id": "36202e4c",
   "metadata": {},
   "outputs": [
    {
     "data": {
      "text/plain": [
       "'Positive'"
      ]
     },
     "execution_count": 55,
     "metadata": {},
     "output_type": "execute_result"
    }
   ],
   "source": [
    "check(1)"
   ]
  },
  {
   "cell_type": "markdown",
   "id": "0c3045e0",
   "metadata": {},
   "source": [
    "## 12. Lazy evaluation <a class=\"anchor\" id=\"bullet12\"></a>"
   ]
  },
  {
   "cell_type": "markdown",
   "id": "638e5f66",
   "metadata": {},
   "source": [
    "In a nutshell, lazy evaluation means that the object is evaluated when it is needed, not when it is created."
   ]
  },
  {
   "cell_type": "markdown",
   "id": "f65449de",
   "metadata": {},
   "source": [
    "## 13. Lexical scoping <a class=\"anchor\" id=\"bullet13\"></a>"
   ]
  },
  {
   "cell_type": "markdown",
   "id": "ecdae5fa",
   "metadata": {},
   "source": [
    "Not essential you understand this to write functions in Python, but can't hurt\n",
    "\n",
    "Environment of a function controls how Python finds the value associated with a name. The key concept for function environment is something called \"lexical scoping\". Lexical scoping means that free variables in a function (i.e. variables that are used in a function but not defined in the function) are looked up in the parent environment of the function.\n",
    "\n",
    "Functions are therefore tied to the environment of each session of Python.\n",
    "\n",
    "Usually not a problem, but it is something to be aware of."
   ]
  },
  {
   "cell_type": "code",
   "execution_count": null,
   "id": "1da3e38d",
   "metadata": {},
   "outputs": [],
   "source": []
  }
 ],
 "metadata": {
  "kernelspec": {
   "display_name": "Python 3 (ipykernel)",
   "language": "python",
   "name": "python3"
  },
  "language_info": {
   "codemirror_mode": {
    "name": "ipython",
    "version": 3
   },
   "file_extension": ".py",
   "mimetype": "text/x-python",
   "name": "python",
   "nbconvert_exporter": "python",
   "pygments_lexer": "ipython3",
   "version": "3.9.13"
  }
 },
 "nbformat": 4,
 "nbformat_minor": 5
}
